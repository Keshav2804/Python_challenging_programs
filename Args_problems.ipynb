{
 "cells": [
  {
   "cell_type": "code",
   "execution_count": null,
   "id": "01265b87-105c-47f5-b710-34d97f6503d9",
   "metadata": {},
   "outputs": [],
   "source": [
    "#  *Args for Standard Deviation:* Create a function that calculates the standard deviation of an arbitrary number of arguments.\n",
    "def stdev(*val):\n",
    "    sum=0\n",
    "    for v in val:\n",
    "        sum+=v\n",
    "    print(sum)\n",
    "    mean=sum/len(val)\n",
    "    print(\"mean={}\".format(mean))\n",
    "    lst2=[]\n",
    "    for i in val:\n",
    "        lst2.append((i-mean)**2)\n",
    "    print(lst2)\n",
    "    sumn=0\n",
    "    for h in lst2:\n",
    "        sumn+=h\n",
    "        \n",
    "    std=(sumn/len(val))**0.5\n",
    "    print(\"The standard deviation of given values is {}\".format(std))\n",
    "    \n",
    "     \n",
    "\n",
    "stdev(125,145,-658,127,980,874)\n",
    "stdev(100,200,400,600)"
   ]
  },
  {
   "cell_type": "code",
   "execution_count": null,
   "id": "2adbbacd-e030-433e-880d-3c051029c4ab",
   "metadata": {},
   "outputs": [],
   "source": [
    "#  *Kwargs for Product Discount:* Create a function that calculates the final price of a product after\n",
    "#      applying multiple discounts passed as keyword arguments.\n",
    "\n",
    "\n",
    "def final_price(**dis):\n",
    "    for k,v in dis.items():\n",
    "        return print(\"The final price for product {} after applying {} %discount,{} % discount,{} % discount on MRP of {} is {}\".format(dis['product'],dis.get('sale'),dis.get('offer'),dis.get('shop'),dis.get('price'),dis.get('price')-dis.get('price')*(dis.get('sale')/100)-dis.get('price')*(dis.get('offer')/100)-dis.get('price')*(dis.get('shop')/100)))\n",
    "\n",
    "\n",
    "\n",
    "\n",
    "\n",
    "final_price(product=\"Table\",price=25000,sale=10,offer=5,shop=5)\n",
    "final_price(product=\"Chair\",price=5400,sale=7,offer=5,shop=2)    \n",
    "    "
   ]
  }
 ],
 "metadata": {
  "kernelspec": {
   "display_name": "Python 3 (ipykernel)",
   "language": "python",
   "name": "python3"
  },
  "language_info": {
   "codemirror_mode": {
    "name": "ipython",
    "version": 3
   },
   "file_extension": ".py",
   "mimetype": "text/x-python",
   "name": "python",
   "nbconvert_exporter": "python",
   "pygments_lexer": "ipython3",
   "version": "3.10.0"
  }
 },
 "nbformat": 4,
 "nbformat_minor": 5
}
