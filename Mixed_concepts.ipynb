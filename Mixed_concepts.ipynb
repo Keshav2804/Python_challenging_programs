{
 "cells": [
  {
   "cell_type": "code",
   "execution_count": null,
   "id": "e7643dbc-925b-4248-815a-dca9bf974ec3",
   "metadata": {},
   "outputs": [],
   "source": [
    "# Write a program that calculates and prints the value according to the given formula:\n",
    "# Q = Square root of [(2 * C * D)/H]\n",
    "# Following are the fixed values of C and H:\n",
    "# C is 50. H is 30.\n",
    "# D is the variable whose values should be input to your program in a comma-separated sequence.\n",
    "# Example\n",
    "# Let us assume the following comma separated input sequence is given to the program:\n",
    "# 100,150,180\n",
    "# The output of the program should be:\n",
    "# 18,22,24\n",
    "\n",
    "\n",
    "# Constants\n",
    "C = 50\n",
    "H = 30\n",
    "\n",
    "# Lists to store input values and computed output values\n",
    "val = []\n",
    "output = []\n",
    "\n",
    "# Input the number of values\n",
    "n = int(input(\"Enter how many values you want to enter: \"))\n",
    "\n",
    "# Loop to get 'n' values from the user\n",
    "for i in range(1, n + 1):\n",
    "    D_val = int(input(\"Enter {} value: \".format(i)))  # Input each value\n",
    "    val.append(D_val)  # Append the input value to the list 'val'\n",
    "\n",
    "    # Inner loop to compute Q for each value in 'val'\n",
    "    for D in val:\n",
    "        Q = ((2 * C * D) / H) ** 0.5  # Calculate Q using the given formula\n",
    "    output.append(round(Q))  # Append the rounded value of Q to the output list\n",
    "\n",
    "# Else block after the for loop (not necessary here, can be removed)\n",
    "else:\n",
    "    print(\"Input values are:{}\".format(val))  # Print input values\n",
    "    print(\"The output values are:{}\".format(output))  # Print output values\n"
   ]
  },
  {
   "cell_type": "code",
   "execution_count": null,
   "id": "a7be2db6-d294-43e9-8285-5ff084e3235d",
   "metadata": {},
   "outputs": [],
   "source": [
    "# Write a program that accepts a comma separated sequence of words as input and prints the words in a comma-separated sequence \n",
    "# after sorting them alphabetically.\n",
    "# Suppose the following input is supplied to the program:\n",
    "# without,hello,bag,world\n",
    "# Then, the output should be:\n",
    "# bag,hello,without,world\n",
    "# Accept comma-separated input from the user\n",
    "input_string = input(\"Enter a comma-separated sequence of words: \")\n",
    "\n",
    "# Split the input string into a list of words using the comma as the delimiter\n",
    "words = input_string.split(\",\")\n",
    "\n",
    "# Sort the list of words alphabetically\n",
    "words.sort()\n",
    "\n",
    "# Join the sorted list of words back into a comma-separated string\n",
    "output_string = \",\".join(words)\n",
    "\n",
    "# Print the sorted words as a comma-separated sequence\n",
    "print(\"Output:\", output_string)\n"
   ]
  }
 ],
 "metadata": {
  "kernelspec": {
   "display_name": "Python 3 (ipykernel)",
   "language": "python",
   "name": "python3"
  },
  "language_info": {
   "codemirror_mode": {
    "name": "ipython",
    "version": 3
   },
   "file_extension": ".py",
   "mimetype": "text/x-python",
   "name": "python",
   "nbconvert_exporter": "python",
   "pygments_lexer": "ipython3",
   "version": "3.10.0"
  }
 },
 "nbformat": 4,
 "nbformat_minor": 5
}
