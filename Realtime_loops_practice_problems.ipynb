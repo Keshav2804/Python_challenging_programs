{
 "cells": [
  {
   "cell_type": "code",
   "execution_count": 1,
   "id": "bfccc47d-1aba-4f2f-a425-f9489dd4b05d",
   "metadata": {},
   "outputs": [
    {
     "name": "stdout",
     "output_type": "stream",
     "text": [
      "The next month's sales will be 3709\n"
     ]
    }
   ],
   "source": [
    "# *Sales Forecasting*: Process sales data to predict the next month's sales based on the average increase in sales over the past year.\n",
    "# Sales data for the past year (12 months)\n",
    "sales = [1200, 1250, 1400, 1500, 1658, 1458, 2480, 2350, 2980, 2500, 3000, 3500]\n",
    "\n",
    "# Calculate the monthly changes in sales\n",
    "d = []\n",
    "for i in range(1, len(sales)):\n",
    "    s = sales[i] - sales[i - 1]\n",
    "    d.append(s)\n",
    "\n",
    "# Calculate the average increase in sales\n",
    "s = sum(d)\n",
    "average_increase = s / len(d)\n",
    "\n",
    "# Predict the next month's sales\n",
    "next_month_sales = round(sales[-1] + average_increase)\n",
    "\n",
    "# Print the prediction\n",
    "print(\"The next month's sales will be {}\".format(next_month_sales))\n"
   ]
  },
  {
   "cell_type": "code",
   "execution_count": 2,
   "id": "8ce53c0a-e528-4c35-a6c9-a50832789eaf",
   "metadata": {},
   "outputs": [
    {
     "name": "stdout",
     "output_type": "stream",
     "text": [
      "The max consumption is of 39 units/Hr during 9 Hr\n",
      "The average consumption for the day is of 19.67 units/Hr\n"
     ]
    }
   ],
   "source": [
    "# *Energy Consumption*: Analyze hourly energy consumption data to find the hour with the highest usage and calculate daily averages.\n",
    "# Hourly energy consumption data for a day (24 hours)\n",
    "hour_consumption = [11, 12, 14, 16, 13, 15, 14, 27, 28, 39, 25, 21, 24, 26, 25, 24, 29, 27, 15, 14, 16, 14, 13, 10]\n",
    "\n",
    "# Find the hour with the highest consumption\n",
    "max_unit = max(hour_consumption)\n",
    "max_hour = hour_consumption.index(max_unit)\n",
    "\n",
    "# Print the hour with the highest consumption\n",
    "print(\"The max consumption is of\", max_unit, \"units/Hr during\", max_hour, \"Hr\")\n",
    "\n",
    "# Calculate the daily average consumption\n",
    "total_consumption = sum(hour_consumption)\n",
    "average_consumption = total_consumption / len(hour_consumption)\n",
    "\n",
    "# Print the daily average consumption\n",
    "print(\"The average consumption for the day is of {} units/Hr\".format(round(average_consumption, 2)))\n"
   ]
  },
  {
   "cell_type": "code",
   "execution_count": null,
   "id": "ec59bfec-e2a9-4cab-9ece-e792ca5a2c75",
   "metadata": {},
   "outputs": [],
   "source": [
    "# *Machine Downtime Analysis*: Track and analyze machine downtime data to find the most frequent causes of downtime and the average duration\n",
    "# List of dictionaries containing downtime events and their durations in minutes\n",
    "downtime_list = [\n",
    "    {\"Power outage\": 60}, {\"Network failure\": 45}, {\"Machine overheating\": 30}, {\"Software crash\": 90}, {\"Hardware failure\": 120},\n",
    "    {\"Human error\": 15}, {\"Scheduled maintenance\": 180}, {\"Environmental factors\": 60}, {\"Component failure\": 120}, {\"Internet outage\": 45},\n",
    "    {\"Sensor malfunction\": 30}, {\"Supplier delay\": 60}, {\"Security breach\": 120}, {\"System update\": 60}, {\"Power outage\": 80},\n",
    "    {\"Human error\": 55}, {\"Power outage\": 90}, {\"Software crash\": 40}, {\"Power outage\": 70}, {\"Software crash\": 100}\n",
    "]\n",
    "\n",
    "# Find the most frequent causes of downtime\n",
    "cause_counts = {}\n",
    "total_durations = {}\n",
    "\n",
    "for event in downtime_list:\n",
    "    for cause, duration in event.items():\n",
    "        if cause in cause_counts:\n",
    "            cause_counts[cause] += 1\n",
    "            total_durations[cause] += duration\n",
    "        else:\n",
    "            cause_counts[cause] = 1\n",
    "            total_durations[cause] = duration\n",
    "\n",
    "# Find the most frequent cause of downtime\n",
    "most_frequent_cause = max(cause_counts, key=cause_counts.get)\n",
    "\n",
    "# Print the most frequent cause of downtime\n",
    "print(\"The most frequent cause of downtime is '{}' with {} occurrences.\".format(most_frequent_cause, cause_counts[most_frequent_cause]))\n",
    "\n",
    "# Calculate and print the average duration of each downtime event\n",
    "print(\"Cause of downtime -> Average duration (minutes)\")\n",
    "for cause, total_duration in total_durations.items():\n",
    "    average_duration = total_duration / cause_counts[cause]\n",
    "    print(\"{} -> {:.2f}\".format(cause, average_duration))\n"
   ]
  },
  {
   "cell_type": "code",
   "execution_count": null,
   "id": "572a1273-e342-4e70-b43b-b7a60839dead",
   "metadata": {},
   "outputs": [],
   "source": [
    "# *Social Media Trends*: Analyze a dataset of social media posts to find the most frequently used hashtags and their daily occurrence trends.\n",
    "# List of hashtags from social media posts\n",
    "hashtags_list = [\n",
    "    \"#love\", \"#instagood\", \"#photooftheday\", \"#fashion\", \"#beautiful\",\"#love\",\"#love\", \"#instagood\",\"#followme\",\"#love\", \"#me\", \"#selfie\",\n",
    "    \"#happy\", \"#cute\", \"#tbt\", \"#like4like\", \"#followme\",\"#love\",\"#followme\",\"#love\", \"#me\", \"#selfie\",\"#style\", \"#food\", \"#smile\",\"#love\", \"#instagood\",\n",
    "    \"#picoftheday\", \"#follow\", \"#me\", \"#selfie\", \"#summer\",\"#follow\",\"#follow\", \"#me\",\"me\", \"#selfie\",\"#style\", \"#food\", \"#smile\",\"#love\", \"#instagood\",\n",
    "    \"#art\", \"#instadaily\", \"#friends\", \"#repost\", \"#nature\",\"#love\", \"#instagood\",\"#followme\",\"#love\",\"#style\", \"#food\", \"#smile\",\"#love\", \"#instagood\",\n",
    "    \"#girl\", \"#fun\", \"#style\", \"#food\", \"#smile\",\"#love\",\"#followme\",\"#love\", \"#me\", \"#selfie\",\"#style\", \"#food\", \"#smile\",\"#love\", \"#instagood\",\n",
    "    \"#family\", \"#travel\", \"#fitness\", \"#igers\", \"#tagsforlikes\",\"#love\",\"#love\", \"#instagood\",\"#style\", \"#food\", \"#smile\",\"#love\", \"#instagood\",\n",
    "]\n",
    "\n",
    "# Find the most frequently used hashtag\n",
    "unique_hashtags = set(hashtags_list)\n",
    "most_frequent_hashtag = max(unique_hashtags, key=hashtags_list.count)\n",
    "\n",
    "# Print the most frequently used hashtag\n",
    "print(\"The most frequent hashtag used is {}\".format(most_frequent_hashtag))\n",
    "\n",
    "# Print the daily occurrence trends of each unique hashtag\n",
    "print(\"hashtag_word-------->Daily_occurrence_trend\")\n",
    "for hashtag in unique_hashtags:\n",
    "    print(\"{}-------->{}\".format(hashtag, hashtags_list.count(hashtag)))\n"
   ]
  },
  {
   "cell_type": "code",
   "execution_count": 5,
   "id": "78047a05-8af0-484d-9227-f1bfde97261d",
   "metadata": {},
   "outputs": [
    {
     "name": "stdin",
     "output_type": "stream",
     "text": [
      "Do you want to process server logs (yes/no):  Yes\n"
     ]
    },
    {
     "name": "stdout",
     "output_type": "stream",
     "text": [
      "The total unique IP addresses that accessed the server for the given day are 50\n"
     ]
    }
   ],
   "source": [
    " # *Log File Analysis*: Process server log files to count the number of unique IP addresses accessing the server each day.\n",
    "# Check if the user wants to process server logs\n",
    "server_log = input(\"Do you want to process server logs (yes/no): \").upper()\n",
    "\n",
    "# List of IP addresses accessing the server\n",
    "ip_addresses = [\n",
    "    \"192.168.0.1\", \"10.0.0.1\", \"172.16.0.1\", \"8.8.8.8\", \"192.168.1.1\",\n",
    "    \"10.1.1.1\", \"172.31.0.1\", \"8.8.4.4\", \"198.51.100.1\", \"203.0.113.1\",\n",
    "    \"192.0.2.1\", \"198.18.0.1\", \"203.0.113.2\", \"192.88.99.1\", \"198.51.100.2\",\n",
    "    \"200.200.200.1\", \"192.168.100.1\", \"172.17.0.1\", \"10.10.10.1\", \"185.85.1.1\",\n",
    "    \"192.168.2.1\", \"172.30.0.1\", \"10.100.100.1\", \"8.8.8.1\", \"192.168.3.1\",\n",
    "    \"172.18.0.1\", \"10.20.30.1\", \"185.85.2.1\", \"192.168.4.1\", \"172.19.0.1\",\n",
    "    \"10.30.40.1\", \"8.8.8.2\", \"192.168.5.1\", \"172.20.0.1\", \"10.50.60.1\",\n",
    "    \"185.85.3.1\", \"192.168.6.1\", \"172.21.0.1\", \"10.70.80.1\", \"8.8.8.3\",\n",
    "    \"192.168.7.1\", \"172.22.0.1\", \"10.90.100.1\", \"185.85.4.1\", \"192.168.8.1\",\n",
    "    \"172.23.0.1\", \"10.110.120.1\", \"8.8.8.4\", \"192.168.9.1\", \"172.24.0.1\"\n",
    "]\n",
    "\n",
    "if server_log == \"NO\":\n",
    "    print(\"Have a nice day!!!!\")\n",
    "elif server_log == \"YES\":\n",
    "    # Calculate the number of unique IP addresses\n",
    "    unique_ips = set(ip_addresses)\n",
    "    num_unique_ips = len(unique_ips)\n",
    "    \n",
    "    # Print the number of unique IP addresses\n",
    "    print(\"The total unique IP addresses that accessed the server for the given day are {}\".format(num_unique_ips))\n"
   ]
  }
 ],
 "metadata": {
  "kernelspec": {
   "display_name": "Python 3 (ipykernel)",
   "language": "python",
   "name": "python3"
  },
  "language_info": {
   "codemirror_mode": {
    "name": "ipython",
    "version": 3
   },
   "file_extension": ".py",
   "mimetype": "text/x-python",
   "name": "python",
   "nbconvert_exporter": "python",
   "pygments_lexer": "ipython3",
   "version": "3.10.0"
  }
 },
 "nbformat": 4,
 "nbformat_minor": 5
}
