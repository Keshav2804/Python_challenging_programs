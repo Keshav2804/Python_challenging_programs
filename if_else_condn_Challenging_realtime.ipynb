{
 "cells": [
  {
   "cell_type": "code",
   "execution_count": 4,
   "id": "060a3fba-5596-4bb7-8738-cd562509131e",
   "metadata": {},
   "outputs": [
    {
     "name": "stdin",
     "output_type": "stream",
     "text": [
      "Enter number of days you want to use car service:  8\n"
     ]
    },
    {
     "name": "stdout",
     "output_type": "stream",
     "text": [
      "your payable bill is 240 as per charge $30/Day.\n"
     ]
    }
   ],
   "source": [
    "#1. Complex Pricing System:\n",
    "#   You are designing a pricing system for a car rental service. The pricing rules are as follows:\n",
    " #  - If the rental duration is less than 1 day, charge $50.\n",
    " #  - If the rental duration is between 1 and 3 days (inclusive), charge $40 per day.\n",
    " #  - If the rental duration is between 4 and 7 days (inclusive), charge $35 per day.\n",
    " #  - If the rental duration is more than 7 days, charge $30 per day.\n",
    " #  - Apply a discount of 10% if the total cost exceeds $300.\n",
    "  # Write a program to calculate the total cost based on the number of rental days.\n",
    "\n",
    "# Input: Number of days for car rental\n",
    "day = int(input(\"Enter number of days you want to use car service: \"))\n",
    "\n",
    "if day < 1:\n",
    "    # If rental duration is less than 1 day\n",
    "    print(\"your payable bill is $50.\")\n",
    "elif 3 >= day > 1:\n",
    "    # If rental duration is between 1 and 3 days (inclusive)\n",
    "    amt = day * 40\n",
    "    # Apply 10% discount if amount exceeds $300\n",
    "    print(\"your payable bill is {} as per charge $40/Day.\".format(amt if amt < 300 else amt * 0.9))\n",
    "elif 7 >= day >= 4:\n",
    "    # If rental duration is between 4 and 7 days (inclusive)\n",
    "    amt = day * 35\n",
    "    # Apply 10% discount if amount exceeds $300\n",
    "    print(\"your payable bill is {} as per charge $35/Day.\".format(amt if amt < 300 else amt * 0.9))\n",
    "elif day > 7:\n",
    "    # If rental duration is more than 7 days\n",
    "    amt = day * 30\n",
    "    # Apply 10% discount if amount exceeds $300\n",
    "    print(\"your payable bill is {} as per charge $30/Day.\".format(amt if amt < 300 else amt * 0.9))\n",
    "else:\n",
    "    # Invalid input case\n",
    "    print(\"Invalid input...try again!!!!\")"
   ]
  },
  {
   "cell_type": "code",
   "execution_count": 5,
   "id": "5bfc5197-9e09-47f4-906b-0d5970360ef9",
   "metadata": {},
   "outputs": [
    {
     "name": "stdin",
     "output_type": "stream",
     "text": [
      "Enter electricity units:  120\n"
     ]
    },
    {
     "name": "stdout",
     "output_type": "stream",
     "text": [
      "For your electricity consumption bill generated is $65.00.\n"
     ]
    }
   ],
   "source": [
    "#2. Electricity Billing System:\n",
    "#   Create a program to calculate the electricity bill based on the following rates:\n",
    "#   - For the first 100 units: $0.5 per unit.\n",
    "#   - For the next 100 units (101-200): $0.75 per unit.\n",
    "#   - For the next 100 units (201-300): $1.20 per unit.\n",
    "#   - For above 300 units: $1.50 per unit.\n",
    "#  Write a program that takes the number of units consumed as input and calculates the total bill.\n",
    "\n",
    "# Input: Number of electricity units consumed\n",
    "units = int(input(\"Enter electricity units: \"))\n",
    "\n",
    "# Initialize total bill\n",
    "total = 0\n",
    "\n",
    "if units <= 100:\n",
    "    # For the first 100 units\n",
    "    total = units * 0.5\n",
    "elif units <= 200:\n",
    "    # For the next 100 units (101-200)\n",
    "    total = 100 * 0.5 + (units - 100) * 0.75\n",
    "elif units <= 300:\n",
    "    # For the next 100 units (201-300)\n",
    "    total = 100 * 0.5 + 100 * 0.75 + (units - 200) * 1.20\n",
    "else:\n",
    "    # For units above 300\n",
    "    total = 100 * 0.5 + 100 * 0.75 + 100 * 1.20 + (units - 300) * 1.50\n",
    "\n",
    "# Output the total bill\n",
    "print(\"For your electricity consumption bill generated is ${:.2f}.\".format(total))\n"
   ]
  },
  {
   "cell_type": "code",
   "execution_count": 6,
   "id": "59cbbdfe-1d8f-497c-83b0-8778586fd3b5",
   "metadata": {},
   "outputs": [
    {
     "name": "stdin",
     "output_type": "stream",
     "text": [
      "Enter obtained score:  95\n",
      "Enter your attendance (in %):  84\n"
     ]
    },
    {
     "name": "stdout",
     "output_type": "stream",
     "text": [
      "Grade A\n"
     ]
    }
   ],
   "source": [
    "#3. Student Grade Evaluation:\n",
    "#   Develop a system that determines a student's grade based on their score:\n",
    "#   - Score >= 90: Grade A.\n",
    " #  - Score >= 80 and < 90: Grade B.\n",
    "#   - Score >= 70 and < 80: Grade C.\n",
    "#   - Score >= 60 and < 70: Grade D.\n",
    "#   - Score < 60: Grade F.\n",
    "#   Additionally, if a student has less than 75% attendance, their grade should be reduced by one level (A becomes B, B becomes C, etc.). \n",
    "# Write a program to determine the final grade of a student.\n",
    "\n",
    "# Input: Score obtained by the student\n",
    "score = int(input(\"Enter obtained score: \"))\n",
    "# Input: Attendance percentage of the student\n",
    "attendance = int(input(\"Enter your attendance (in %): \"))\n",
    "\n",
    "# Determine the initial grade based on score and attendance\n",
    "if score >= 90 and attendance > 75:\n",
    "    print(\"Grade A\")\n",
    "elif score >= 90 and attendance < 75:\n",
    "    print(\"Grade B\")  # Grade reduced by one level due to low attendance\n",
    "elif 90 > score >= 80 and attendance > 75:\n",
    "    print(\"Grade B\")\n",
    "elif 90 > score >= 80 and attendance < 75:\n",
    "    print(\"Grade C\")  # Grade reduced by one level due to low attendance\n",
    "elif 80 > score >= 70 and attendance > 75:\n",
    "    print(\"Grade C\")\n",
    "elif 80 > score >= 70 and attendance < 75:\n",
    "    print(\"Grade D\")  # Grade reduced by one level due to low attendance\n",
    "elif 70 > score >= 60 and attendance > 75:\n",
    "    print(\"Grade D\")\n",
    "elif 70 > score >= 60 and attendance < 75:\n",
    "    print(\"Grade F\")  # Grade reduced by one level due to low attendance\n",
    "elif score < 60 and attendance > 75:\n",
    "    print(\"Grade F\")\n",
    "else:\n",
    "    # Handling invalid input\n",
    "    print(\"Please check your inputs once again!!!\")\n"
   ]
  },
  {
   "cell_type": "code",
   "execution_count": 7,
   "id": "6e9bbb13-28c4-4c70-8673-9469f6365df4",
   "metadata": {},
   "outputs": [
    {
     "name": "stdin",
     "output_type": "stream",
     "text": [
      "Enter your total income (in $):  125000\n"
     ]
    },
    {
     "name": "stdout",
     "output_type": "stream",
     "text": [
      "Your tax value on your income is $44000.00\n"
     ]
    }
   ],
   "source": [
    "#4. Progressive Tax System:\n",
    "#   Write a program to calculate income tax based on the following progressive tax rates:\n",
    "#   - Income up to $10,000: 10%.\n",
    "#   - Income from $10,001 to $20,000: 20%.\n",
    "#   - Income from $20,001 to $30,000: 30%.\n",
    "#   - Income above $30,000: 40%.\n",
    "#   The program should take the annual income as input and output the total tax owed.\n",
    "\n",
    "# Input: Annual income\n",
    "income = float(input(\"Enter your total income (in $): \"))\n",
    "\n",
    "# Calculate tax based on progressive tax rates\n",
    "if income <= 10000:\n",
    "    # Tax for income up to $10,000\n",
    "    tax = income * 0.1\n",
    "    print(\"Your tax value on your income is ${:.2f}\".format(tax))\n",
    "elif 10000 < income <= 20000:\n",
    "    # Tax for income from $10,001 to $20,000\n",
    "    tax = 10000 * 0.1 + (income - 10000) * 0.2\n",
    "    print(\"Your tax value on your income is ${:.2f}\".format(tax))\n",
    "elif 20000 < income <= 30000:\n",
    "    # Tax for income from $20,001 to $30,000\n",
    "    tax = 10000 * 0.1 + 10000 * 0.2 + (income - 20000) * 0.3\n",
    "    print(\"Your tax value on your income is ${:.2f}\".format(tax))\n",
    "elif income > 30000:\n",
    "    # Tax for income above $30,000\n",
    "    tax = 10000 * 0.1 + 10000 * 0.2 + 10000 * 0.3 + (income - 30000) * 0.4\n",
    "    print(\"Your tax value on your income is ${:.2f}\".format(tax))\n",
    "else:\n",
    "    # Handling invalid input\n",
    "    print(\"Invalid income amount\")\n"
   ]
  },
  {
   "cell_type": "code",
   "execution_count": 8,
   "id": "d1a151da-1731-445b-8deb-1da9a66e553b",
   "metadata": {},
   "outputs": [
    {
     "name": "stdin",
     "output_type": "stream",
     "text": [
      "Enter number of bags you want to carry:  2\n"
     ]
    },
    {
     "name": "stdout",
     "output_type": "stream",
     "text": [
      "The baggage fee for your total luggage is $70\n"
     ]
    }
   ],
   "source": [
    "#5. Airline Baggage Fees:\n",
    "#   Implement a baggage fee calculation system for an airline:\n",
    "#   - For the first bag, the fee is $30.\n",
    "#   - For the second bag, the fee is $40.\n",
    "#   - For each additional bag, the fee is $50.\n",
    "#   - If the total number of bags exceeds 5, apply a 10% discount on the total fee.\n",
    "#   Write a program to calculate the total baggage fee based on the number of bags.\n",
    "\n",
    "# Input: Number of bags\n",
    "bags = int(input(\"Enter number of bags you want to carry: \"))\n",
    "\n",
    "# Calculate baggage fee based on the number of bags\n",
    "if bags == 1:\n",
    "    # Fee for the first bag\n",
    "    bill = 30\n",
    "    print(\"The baggage fee for your total luggage is ${}\".format(bill))\n",
    "elif bags == 2:\n",
    "    # Fee for the first and second bag\n",
    "    bill = 30 + 40\n",
    "    print(\"The baggage fee for your total luggage is ${}\".format(bill))\n",
    "elif bags > 2:\n",
    "    # Fee for more than two bags\n",
    "    bill = 30 + 40 + ((bags - 2) * 50)\n",
    "    # Apply 10% discount if total number of bags exceeds 5\n",
    "    amt = bill - (bill * 0.1) if bags > 5 else bill\n",
    "    print(\"The baggage fee for your total luggage is ${}\".format(amt))\n",
    "else:\n",
    "    # Handling invalid input\n",
    "    print(\"Try again....baggage count error!!\")\n"
   ]
  },
  {
   "cell_type": "code",
   "execution_count": 9,
   "id": "ac36577f-b3b2-4d37-8973-8ab01e992d32",
   "metadata": {},
   "outputs": [
    {
     "name": "stdin",
     "output_type": "stream",
     "text": [
      "Enter number of days you want to stay in hotel:  5\n",
      "Enter in which month you want to stay (1-12):  1\n"
     ]
    },
    {
     "name": "stdout",
     "output_type": "stream",
     "text": [
      "Your hotel bill is $900.00\n"
     ]
    }
   ],
   "source": [
    "#6. Hotel Room Pricing:\n",
    "#   Create a pricing system for hotel rooms based on the following rules:\n",
    "#   - If the stay duration is less than 3 days, charge $200 per night.\n",
    "#   - If the stay duration is between 3 and 7 days, charge $180 per night.\n",
    "#   - If the stay duration is more than 7 days, charge $150 per night.\n",
    "#   - If the booking is made in the peak season (June to August), increase the total price by 20%.\n",
    "#   Write a program to calculate the total cost based on the number of nights and the booking month.\n",
    "\n",
    "# Input: Number of days of stay in the hotel\n",
    "day = int(input(\"Enter number of days you want to stay in hotel: \"))\n",
    "# Input: Month of booking (1-12)\n",
    "month = int(input(\"Enter in which month you want to stay (1-12): \"))\n",
    "\n",
    "# Calculate total bill based on the number of days and month of booking\n",
    "if day < 3:\n",
    "    # Stay duration less than 3 days\n",
    "    total_bill = 200 * day\n",
    "    if month in range(6, 9):  # Peak season check\n",
    "        total_bill *= 1.2\n",
    "elif 3 <= day <= 7:\n",
    "    # Stay duration between 3 and 7 days\n",
    "    total_bill = 180 * day\n",
    "    if month in range(6, 9):  # Peak season check\n",
    "        total_bill *= 1.2\n",
    "else:\n",
    "    # Stay duration more than 7 days\n",
    "    total_bill = 150 * day\n",
    "    if month in range(6, 9):  # Peak season check\n",
    "        total_bill *= 1.2\n",
    "\n",
    "# Output the total bill\n",
    "print(\"Your hotel bill is ${:.2f}\".format(total_bill))\n",
    "\n"
   ]
  },
  {
   "cell_type": "code",
   "execution_count": 10,
   "id": "ad20cfe1-0828-4728-aee4-d9b57fd1c3f1",
   "metadata": {},
   "outputs": [
    {
     "name": "stdin",
     "output_type": "stream",
     "text": [
      "Enter your overdue days:  50\n"
     ]
    },
    {
     "name": "stdout",
     "output_type": "stream",
     "text": [
      "The total fines you have to pay is $375\n"
     ]
    }
   ],
   "source": [
    "#7. Library Fine Calculation:\n",
    "#   Develop a system to calculate library fines based on the number of days a book is overdue:\n",
    "#   - For the first 5 days, the fine is $2 per day.\n",
    "#   - For the next 5 days (6-10), the fine is $3 per day.\n",
    "#   - For the next 10 days (11-20), the fine is $5 per day.\n",
    "#   - For days beyond 20, the fine is $10 per day.\n",
    "#   Write a program that takes the number of overdue days as input and calculates the total fine.\n",
    "\n",
    "# Input: Number of overdue days\n",
    "overdue_days = int(input(\"Enter your overdue days: \"))\n",
    "\n",
    "# Calculate the total fines based on the number of overdue days\n",
    "if overdue_days <= 5:\n",
    "    # For the first 5 days, the fine is $2 per day\n",
    "    total_fines = overdue_days * 2\n",
    "    print(\"The total fines you have to pay is ${}\".format(total_fines))\n",
    "elif 10 >= overdue_days > 5:\n",
    "    # For the next 5 days (6-10), the fine is $3 per day\n",
    "    total_fines = (5 * 2) + (overdue_days - 5) * 3\n",
    "    print(\"The total fines you have to pay is ${}\".format(total_fines))\n",
    "elif 20 >= overdue_days > 10:\n",
    "    # For the next 10 days (11-20), the fine is $5 per day\n",
    "    total_fines = (5 * 2) + (5 * 3) + (overdue_days - 10) * 5\n",
    "    print(\"The total fines you have to pay is ${}\".format(total_fines))\n",
    "elif overdue_days > 20:\n",
    "    # For days beyond 20, the fine is $10 per day\n",
    "    total_fines = (5 * 2) + (5 * 3) + (10 * 5) + (overdue_days - 20) * 10\n",
    "    print(\"The total fines you have to pay is ${}\".format(total_fines))\n",
    "else:\n",
    "    # Handling invalid input\n",
    "    print(\"Invalid input.....try again!!!!!\")  "
   ]
  },
  {
   "cell_type": "code",
   "execution_count": 11,
   "id": "9b5e4ae1-14a7-4164-9e63-ea88296b61a1",
   "metadata": {},
   "outputs": [
    {
     "name": "stdin",
     "output_type": "stream",
     "text": [
      "Enter your internet usage in GB:  275\n"
     ]
    },
    {
     "name": "stdout",
     "output_type": "stream",
     "text": [
      "The total internet bill is $973.75\n"
     ]
    }
   ],
   "source": [
    "# 8. Internet Data Usage Billing:\n",
    "#   Write a program to calculate internet data usage charges based on the following rules:\n",
    " #  - For the first 50 GB: $2 per GB.\n",
    " #  - For the next 50 GB (51-100): $3 per GB.\n",
    " #  - For the next 100 GB (101-200): $4 per GB.\n",
    " #  - For above 200 GB: $5 per GB.\n",
    " #  Additionally, if the total usage exceeds 250 GB, apply a 5% discount on the total bill. \n",
    "# The program should take the total data usage as input and calculate the total cost.\n",
    "\n",
    "# Input: Total internet data usage in GB\n",
    "usage = int(input(\"Enter your internet usage in GB: \"))\n",
    "\n",
    "# Calculate the total internet bill based on the data usage\n",
    "if usage <= 50:\n",
    "    # For the first 50 GB, charge $2 per GB\n",
    "    i_bill = usage * 2\n",
    "    print(\"The total internet bill is ${}\".format(i_bill))\n",
    "elif 100 > usage > 50:\n",
    "    # For the next 50 GB (51-100), charge $3 per GB\n",
    "    i_bill = (50 * 2) + (usage - 50) * 3\n",
    "    print(\"The total internet bill is ${}\".format(i_bill))\n",
    "elif 200 > usage > 100:\n",
    "    # For the next 100 GB (101-200), charge $4 per GB\n",
    "    i_bill = (50 * 2) + (50 * 3) + (usage - 100) * 4\n",
    "    print(\"The total internet bill is ${}\".format(i_bill))\n",
    "elif usage > 200:\n",
    "    # For usage above 200 GB, charge $5 per GB\n",
    "    i_bill = (50 * 2) + (50 * 3) + (100 * 4) + (usage - 200) * 5\n",
    "    # Apply 5% discount if total usage exceeds 250 GB\n",
    "    amt = i_bill - (i_bill * 0.05) if usage > 250 else i_bill\n",
    "    print(\"The total internet bill is ${}\".format(amt))\n",
    "else:\n",
    "    # Handling invalid input\n",
    "    print(\"Check usage correctly....try again!!!!\")\n"
   ]
  },
  {
   "cell_type": "code",
   "execution_count": 12,
   "id": "866208f8-35a2-4253-98ab-339eaf4e1672",
   "metadata": {},
   "outputs": [
    {
     "name": "stdin",
     "output_type": "stream",
     "text": [
      "Enter fitness club membership duration in months:  15\n",
      "Enter your age:  25\n"
     ]
    },
    {
     "name": "stdout",
     "output_type": "stream",
     "text": [
      "Your membership fee total amount is $600\n"
     ]
    }
   ],
   "source": [
    "#9. Fitness Club Membership Fee:\n",
    "#   Create a membership fee calculation system for a fitness club:\n",
    "#   - If the membership duration is less than 6 months, charge $50 per month.\n",
    " #  - If the membership duration is between 6 and 12 months, charge $45 per month.\n",
    "#   - If the membership duration is more than 12 months, charge $40 per month.\n",
    "#   - If the member is a senior citizen (age >= 60), apply a 15% discount on the total fee.\n",
    "#   Write a program to calculate the total membership fee based on the number of months and the age of the member.\n",
    "\n",
    "# Input: Membership duration in months\n",
    "duration = int(input(\"Enter fitness club membership duration in months: \"))\n",
    "# Input: Age of the member\n",
    "age = int(input(\"Enter your age: \"))\n",
    "\n",
    "# Calculate the total membership fee based on duration and age\n",
    "if duration < 6:\n",
    "    # Membership duration less than 6 months, charge $50 per month\n",
    "    amt = duration * 50\n",
    "    if age >= 60:  # Senior citizen discount check\n",
    "        amt *= 0.85  # Apply 15% discount\n",
    "    print(\"Your membership fee total amount is ${}\".format(amt))\n",
    "elif 12 >= duration > 6:\n",
    "    # Membership duration between 6 and 12 months, charge $45 per month\n",
    "    amt = duration * 45\n",
    "    if age >= 60:  # Senior citizen discount check\n",
    "        amt *= 0.85  # Apply 15% discount\n",
    "    print(\"Your membership fee total amount is ${}\".format(amt))\n",
    "elif duration > 12:\n",
    "    # Membership duration more than 12 months, charge $40 per month\n",
    "    amt = duration * 40\n",
    "    if age >= 60:  # Senior citizen discount check\n",
    "        amt *= 0.85  # Apply 15% discount\n",
    "    print(\"Your membership fee total amount is ${}\".format(amt))\n",
    "else:\n",
    "    # Handling invalid input\n",
    "    print(\"Invalid input is given...try again!!!!\")\n"
   ]
  },
  {
   "cell_type": "code",
   "execution_count": 13,
   "id": "a0545836-2988-49bd-99ea-299539465af0",
   "metadata": {},
   "outputs": [
    {
     "name": "stdin",
     "output_type": "stream",
     "text": [
      "Enter your age (above 25 years):  26\n",
      "Do you have any pre-existing medical conditions (yes/No):  no\n"
     ]
    },
    {
     "name": "stdout",
     "output_type": "stream",
     "text": [
      "Your monthly premium is $150.00\n"
     ]
    }
   ],
   "source": [
    "#10. Insurance Premium Calculation:\n",
    "#    Implement a system to calculate insurance premiums based on the following criteria:\n",
    "#    - If the insured person's age is less than 25, the premium is $200 per month.\n",
    "#    - If the age is between 25 and 40, the premium is $150 per month.\n",
    "#    - If the age is between 41 and 60, the premium is $100 per month.\n",
    "#   - If the age is above 60, the premium is $120 per month.\n",
    "#    Additionally, if the insured person has any pre-existing medical conditions, add a surcharge of 20% to the premium. \n",
    "# Write a program to calculate the monthly premium based on age and medical condition.\n",
    "\n",
    "# Input: Age of the insured person\n",
    "age = int(input(\"Enter your age (above 25 years): \"))\n",
    "# Input: Whether the insured person has pre-existing medical conditions\n",
    "q = input(\"Do you have any pre-existing medical conditions (yes/No): \").upper()\n",
    "\n",
    "# Calculate the monthly insurance premium based on age and medical condition\n",
    "if age < 25:\n",
    "    # Age less than 25, premium is $200 per month\n",
    "    premium = 200\n",
    "    if q == \"YES\":  # Check for pre-existing medical conditions\n",
    "        premium *= 1.2  # Apply 20% surcharge\n",
    "elif 40 > age > 25:\n",
    "    # Age between 25 and 40, premium is $150 per month\n",
    "    premium = 150\n",
    "    if q == \"YES\":  # Check for pre-existing medical conditions\n",
    "        premium *= 1.2  # Apply 20% surcharge\n",
    "elif 60 > age > 41:\n",
    "    # Age between 41 and 60, premium is $100 per month\n",
    "    premium = 100\n",
    "    if q == \"YES\":  # Check for pre-existing medical conditions\n",
    "        premium *= 1.2  # Apply 20% surcharge\n",
    "elif age > 60:\n",
    "    # Age above 60, premium is $120 per month\n",
    "    premium = 120\n",
    "    if q == \"YES\":  # Check for pre-existing medical conditions\n",
    "        premium *= 1.2  # Apply 20% surcharge\n",
    "else:\n",
    "    # Handling invalid input\n",
    "    print(\"Invalid data...check input once again!!!!\")\n",
    "    exit()\n",
    "\n",
    "# Output the monthly premium\n",
    "print(\"Your monthly premium is ${:.2f}\".format(premium))\n",
    "\n"
   ]
  },
  {
   "cell_type": "code",
   "execution_count": null,
   "id": "fdb0fa7a-78cc-437d-9a56-0ac50c8bcd27",
   "metadata": {},
   "outputs": [],
   "source": []
  }
 ],
 "metadata": {
  "kernelspec": {
   "display_name": "Python 3 (ipykernel)",
   "language": "python",
   "name": "python3"
  },
  "language_info": {
   "codemirror_mode": {
    "name": "ipython",
    "version": 3
   },
   "file_extension": ".py",
   "mimetype": "text/x-python",
   "name": "python",
   "nbconvert_exporter": "python",
   "pygments_lexer": "ipython3",
   "version": "3.10.0"
  }
 },
 "nbformat": 4,
 "nbformat_minor": 5
}
