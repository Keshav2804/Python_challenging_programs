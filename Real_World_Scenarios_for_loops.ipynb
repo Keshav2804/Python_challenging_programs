{
 "cells": [
  {
   "cell_type": "code",
   "execution_count": 1,
   "id": "afb95c8f-fad4-46d2-ae8a-5d218c252de4",
   "metadata": {},
   "outputs": [
    {
     "name": "stdout",
     "output_type": "stream",
     "text": [
      "Max car count: 984\n",
      "The busiest hour of the day is between 19:00-20:00.\n"
     ]
    }
   ],
   "source": [
    "# List of hourly car counts\n",
    "lst = [202, 201, 190, 180, 150, 154, 198, 254, 378, 459, 658, 654, 455, 485, 354, 364, 324, 982, 859, 984, 897, 867, 984, 782]\n",
    "\n",
    "# Initialize the maximum car count with the first element in the list\n",
    "max_car_count = lst[0]\n",
    "\n",
    "# Initialize the index of the maximum car count\n",
    "max_index = 0\n",
    "\n",
    "# Iterate through the list to find the maximum car count and its index\n",
    "for i in range(len(lst)):\n",
    "    if lst[i] > max_car_count:\n",
    "        max_car_count = lst[i]\n",
    "        max_index = i\n",
    "\n",
    "# Print the maximum car count\n",
    "print(\"Max car count: {}\".format(max_car_count))\n",
    "\n",
    "# Print the busiest hour of the day\n",
    "print(\"The busiest hour of the day is between {}:00-{}:00.\".format(max_index, max_index + 1))\n"
   ]
  },
  {
   "cell_type": "code",
   "execution_count": 2,
   "id": "44fa4dfb-ec39-42b1-b84e-26990effea0c",
   "metadata": {},
   "outputs": [
    {
     "name": "stdout",
     "output_type": "stream",
     "text": [
      "The longest streak of increasing stock prices is 5 days.\n"
     ]
    }
   ],
   "source": [
    "# List of stock prices\n",
    "streak = [120, 140, 190, 180, 150, 189, 198, 254, 378]\n",
    "\n",
    "# Variables to keep track of the current streak and the longest streak\n",
    "current_streak_length = 1\n",
    "longest_streak_length = 1\n",
    "\n",
    "# Iterate through the list of stock prices\n",
    "for i in range(1, len(streak)):\n",
    "    # Check if the current price is higher than the previous price\n",
    "    if streak[i] > streak[i - 1]:\n",
    "        # Increment the current streak length\n",
    "        current_streak_length += 1\n",
    "    else:\n",
    "        # If the streak ends, update the longest streak if necessary\n",
    "        if current_streak_length > longest_streak_length:\n",
    "            longest_streak_length = current_streak_length\n",
    "        # Reset the current streak length\n",
    "        current_streak_length = 1\n",
    "\n",
    "# Final check to update the longest streak after the loop ends\n",
    "if current_streak_length > longest_streak_length:\n",
    "    longest_streak_length = current_streak_length\n",
    "\n",
    "# Print the longest streak length\n",
    "print(\"The longest streak of increasing stock prices is {} days.\".format(longest_streak_length))\n"
   ]
  },
  {
   "cell_type": "code",
   "execution_count": 4,
   "id": "cd4b7ad6-06fe-4177-9d39-743317b7aef2",
   "metadata": {},
   "outputs": [
    {
     "name": "stdin",
     "output_type": "stream",
     "text": [
      "Enter number of customers:  2\n"
     ]
    },
    {
     "name": "stdout",
     "output_type": "stream",
     "text": [
      "Product list for customer 1\n"
     ]
    },
    {
     "name": "stdin",
     "output_type": "stream",
     "text": [
      "Enter how many products you have purchased:  4\n",
      "Enter product name 1:  Maggi\n",
      "Enter product name 2:  Maggi Masala\n",
      "Enter product name 3:  Parle Biscuits\n",
      "Enter product name 4:  Wafers\n"
     ]
    },
    {
     "name": "stdout",
     "output_type": "stream",
     "text": [
      "Product list for customer 2\n"
     ]
    },
    {
     "name": "stdin",
     "output_type": "stream",
     "text": [
      "Enter how many products you have purchased:  3\n",
      "Enter product name 1:  Maggi\n",
      "Enter product name 2:  Maggi Masala\n",
      "Enter product name 3:  Dabur toothpaste\n"
     ]
    },
    {
     "name": "stdout",
     "output_type": "stream",
     "text": [
      "The list of products purchased by each customer is: [['Maggi', 'Maggi Masala', 'Parle Biscuits', 'Wafers'], ['Maggi', 'Maggi Masala', 'Dabur toothpaste']]\n",
      "The most frequent combination of items purchased together is: Maggi and Maggi Masala with 2 occurrences\n"
     ]
    }
   ],
   "source": [
    "# Function to find the most frequent combination of items purchased together\n",
    "def find_most_frequent_combination(transactions):\n",
    "    comb_counter = {}  # Dictionary to count combinations\n",
    "\n",
    "    # Iterate through each transaction\n",
    "    for transaction in transactions:\n",
    "        # Generate all possible combinations of items in the transaction\n",
    "        for i in range(len(transaction)):\n",
    "            for j in range(i + 1, len(transaction)):\n",
    "                combination = (transaction[i], transaction[j])\n",
    "                if combination in comb_counter:\n",
    "                    comb_counter[combination] += 1\n",
    "                else:\n",
    "                    comb_counter[combination] = 1\n",
    "\n",
    "    # Find the most frequent combination\n",
    "    most_frequent_combination = None\n",
    "    max_count = 0\n",
    "    for combination, count in comb_counter.items():\n",
    "        if count > max_count:\n",
    "            max_count = count\n",
    "            most_frequent_combination = combination\n",
    "\n",
    "    return most_frequent_combination, max_count\n",
    "\n",
    "# Input number of customers\n",
    "m = int(input(\"Enter number of customers: \"))\n",
    "\n",
    "# List to store items purchased by each customer\n",
    "item = []\n",
    "\n",
    "# Gather product lists from each customer\n",
    "for i in range(1, m + 1):\n",
    "    print(\"Product list for customer {}\".format(i))\n",
    "    n = int(input(\"Enter how many products you have purchased: \"))\n",
    "    lst2 = []\n",
    "    for b in range(1, n + 1):\n",
    "        p_name = input(\"Enter product name {}: \".format(b))\n",
    "        lst2.append(p_name)\n",
    "    item.append(lst2)\n",
    "\n",
    "# Print the list of products purchased by each customer\n",
    "print(\"The list of products purchased by each customer is: {}\".format(item))\n",
    "\n",
    "# Find and print the most frequent combination of items\n",
    "most_frequent_combination, count = find_most_frequent_combination(item)\n",
    "if most_frequent_combination:\n",
    "    print(\"The most frequent combination of items purchased together is: {} and {} with {} occurrences\".format(\n",
    "        most_frequent_combination[0], most_frequent_combination[1], count\n",
    "    ))\n",
    "else:\n",
    "    print(\"No combinations of items found.\")\n"
   ]
  },
  {
   "cell_type": "code",
   "execution_count": 5,
   "id": "3d046022-9b49-4a82-919d-52ff426277b0",
   "metadata": {},
   "outputs": [
    {
     "name": "stdout",
     "output_type": "stream",
     "text": [
      "The average session length for the above user is 102.00\n",
      "The lowest session length for the user is 10 and the largest session length is 360\n",
      "The outliers in the session lengths are: [360, 10]\n"
     ]
    }
   ],
   "source": [
    "# List of session lengths\n",
    "session_length = [120, 90, 85, 75, 64, 60, 75, 98, 85, 360, 10]\n",
    "\n",
    "# Calculate the total sum of session lengths\n",
    "total_sum = 0\n",
    "i = 0\n",
    "\n",
    "while i <= len(session_length) - 1:\n",
    "    total_sum += session_length[i]\n",
    "    i += 1\n",
    "\n",
    "# Calculate the average session length\n",
    "average_session_length = total_sum / len(session_length)\n",
    "\n",
    "# Find the minimum and maximum session lengths\n",
    "min_session_length = min(session_length)\n",
    "max_session_length = max(session_length)\n",
    "\n",
    "# Print the average, minimum, and maximum session lengths\n",
    "print(\"The average session length for the above user is {:.2f}\".format(average_session_length))\n",
    "print(\"The lowest session length for the user is {} and the largest session length is {}\".format(min_session_length, max_session_length))\n",
    "\n",
    "# Identify outliers using the interquartile range (IQR) method\n",
    "sorted_sessions = sorted(session_length)\n",
    "Q1 = sorted_sessions[len(sorted_sessions) // 4]\n",
    "Q3 = sorted_sessions[(len(sorted_sessions) * 3) // 4]\n",
    "IQR = Q3 - Q1\n",
    "\n",
    "# Define outlier thresholds\n",
    "lower_bound = Q1 - 1.5 * IQR\n",
    "upper_bound = Q3 + 1.5 * IQR\n",
    "\n",
    "# Find outliers\n",
    "outliers = [session for session in session_length if session < lower_bound or session > upper_bound]\n",
    "\n",
    "# Print outliers\n",
    "print(\"The outliers in the session lengths are: {}\".format(outliers))\n"
   ]
  },
  {
   "cell_type": "code",
   "execution_count": 6,
   "id": "1fcd073f-9efc-4920-8844-66118b59da4c",
   "metadata": {},
   "outputs": [
    {
     "name": "stdout",
     "output_type": "stream",
     "text": [
      "The longest period of consecutive rainy days is 8 days.\n"
     ]
    }
   ],
   "source": [
    "# List of historical weather data\n",
    "lst = [\n",
    "    \"rain\", \"rain\", \"rain\", \"rain\", \"rain\", \"rain\", \"rain\", \"No rain\", \"No rain\", \n",
    "    \"rain\", \"rain\", \"rain\", \"rain\", \"No rain\", \"No rain\", \"rain\", \"rain\", \"rain\", \n",
    "    \"rain\", \"rain\", \"rain\", \"rain\", \"rain\", \"No rain\", \"No rain\", \"No rain\", \n",
    "    \"No rain\", \"rain\", \"rain\"\n",
    "]\n",
    "\n",
    "# Variables to store the current streak and the longest streak of rainy days\n",
    "current_streak = 0\n",
    "longest_streak = 0\n",
    "\n",
    "# Iterate through the list to find the longest period of consecutive rainy days\n",
    "for weather in lst:\n",
    "    if weather == \"rain\":\n",
    "        # Increment the current streak counter if it's a rainy day\n",
    "        current_streak += 1\n",
    "        # Update the longest streak if the current streak is longer\n",
    "        if current_streak > longest_streak:\n",
    "            longest_streak = current_streak\n",
    "    else:\n",
    "        # Reset the current streak counter if it's not a rainy day\n",
    "        current_streak = 0\n",
    "\n",
    "# Print the longest period of consecutive rainy days\n",
    "print(\"The longest period of consecutive rainy days is {} days.\".format(longest_streak))\n"
   ]
  }
 ],
 "metadata": {
  "kernelspec": {
   "display_name": "Python 3 (ipykernel)",
   "language": "python",
   "name": "python3"
  },
  "language_info": {
   "codemirror_mode": {
    "name": "ipython",
    "version": 3
   },
   "file_extension": ".py",
   "mimetype": "text/x-python",
   "name": "python",
   "nbconvert_exporter": "python",
   "pygments_lexer": "ipython3",
   "version": "3.10.0"
  }
 },
 "nbformat": 4,
 "nbformat_minor": 5
}
