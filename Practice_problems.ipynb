{
 "cells": [
  {
   "cell_type": "code",
   "execution_count": 1,
   "id": "96c6384b-2629-4ba5-8241-f7725115d40f",
   "metadata": {},
   "outputs": [
    {
     "name": "stdout",
     "output_type": "stream",
     "text": [
      "2000,2002,2004,2006,2008,2020,2022,2024,2026,2028,2040,2042,2044,2046,2048,2060,2062,2064,2066,2068,2080,2082,2084,2086,2088,2200,2202,2204,2206,2208,2220,2222,2224,2226,2228,2240,2242,2244,2246,2248,2260,2262,2264,2266,2268,2280,2282,2284,2286,2288,2400,2402,2404,2406,2408,2420,2422,2424,2426,2428,2440,2442,2444,2446,2448,2460,2462,2464,2466,2468,2480,2482,2484,2486,2488,2600,2602,2604,2606,2608,2620,2622,2624,2626,2628,2640,2642,2644,2646,2648,2660,2662,2664,2666,2668,2680,2682,2684,2686,2688,2800,2802,2804,2806,2808,2820,2822,2824,2826,2828,2840,2842,2844,2846,2848,2860,2862,2864,2866,2868,2880,2882,2884,2886,2888\n"
     ]
    }
   ],
   "source": [
    "# Write a program, which will find all such numbers between 1000 and 3000 (both included) such that each digit of the number is an even number.\n",
    "# The numbers obtained should be printed in a comma-separated sequence on a single line.\n",
    "\n",
    "# Initialize an empty list to store the valid numbers\n",
    "values = []\n",
    "\n",
    "# Loop through the range from 1000 to 3000 (inclusive)\n",
    "for i in range(1000, 3001):\n",
    "    s = str(i)  # Convert the number to a string to check each digit\n",
    "    # Check if all digits are even\n",
    "    if (int(s[0]) % 2 == 0) and (int(s[1]) % 2 == 0) and (int(s[2]) % 2 == 0) and (int(s[3]) % 2 == 0):\n",
    "        values.append(s)  # If all digits are even, add the number to the list\n",
    "\n",
    "# Print the result as a comma-separated sequence on a single line\n",
    "print(\",\".join(values))\n"
   ]
  },
  {
   "cell_type": "code",
   "execution_count": 3,
   "id": "fc2a1aa5-e821-41a5-bc19-34be0f7cf0bc",
   "metadata": {},
   "outputs": [
    {
     "name": "stdout",
     "output_type": "stream",
     "text": [
      "Enter lines of text (type 'END' to finish):\n"
     ]
    },
    {
     "name": "stdin",
     "output_type": "stream",
     "text": [
      " Practice makes perfect\n",
      " END\n"
     ]
    },
    {
     "name": "stdout",
     "output_type": "stream",
     "text": [
      "PRACTICE MAKES PERFECT\n"
     ]
    }
   ],
   "source": [
    "# Write a program that accepts sequence of lines as input and prints the lines after making all characters in the sentence capitalized.\n",
    "# Suppose the following input is supplied to the program:\n",
    "# Hello world\n",
    "# Practice makes perfect\n",
    "# Then, the output should be:\n",
    "# HELLO WORLD\n",
    "# PRACTICE MAKES PERFECT\n",
    "# Initialize an empty list to store the input lines\n",
    "lines = []\n",
    "\n",
    "print(\"Enter lines of text (type 'END' to finish):\")\n",
    "\n",
    "# Continuously read lines from the user\n",
    "while True:\n",
    "    line = input()\n",
    "    if line == 'END':  # Use 'END' as a sentinel value to stop reading input\n",
    "        break\n",
    "    lines.append(line.upper())  # Convert the line to uppercase and add to the list\n",
    "\n",
    "# Print each capitalized line\n",
    "for line in lines:\n",
    "    print(line)\n"
   ]
  },
  {
   "cell_type": "code",
   "execution_count": null,
   "id": "2b2ad438-7e81-4148-8f10-1ae8b7dc3b0d",
   "metadata": {},
   "outputs": [],
   "source": []
  }
 ],
 "metadata": {
  "kernelspec": {
   "display_name": "Python 3 (ipykernel)",
   "language": "python",
   "name": "python3"
  },
  "language_info": {
   "codemirror_mode": {
    "name": "ipython",
    "version": 3
   },
   "file_extension": ".py",
   "mimetype": "text/x-python",
   "name": "python",
   "nbconvert_exporter": "python",
   "pygments_lexer": "ipython3",
   "version": "3.10.0"
  }
 },
 "nbformat": 4,
 "nbformat_minor": 5
}
